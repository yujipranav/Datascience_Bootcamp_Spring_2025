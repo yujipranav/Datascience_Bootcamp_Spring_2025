{
 "cells": [
  {
   "cell_type": "markdown",
   "id": "b2c8858e-4b0b-42b1-a3ea-7f06fbc42c92",
   "metadata": {},
   "source": [
    "##  Bootcamp Homework 1 [pn2330@nyu.edu]"
   ]
  },
  {
   "cell_type": "markdown",
   "id": "4aa1f4c5-561b-4a09-ab8d-2451185af555",
   "metadata": {},
   "source": [
    "#### Question 1 \n",
    "#### ⁠Display Fibonacci Series upto 10 terms"
   ]
  },
  {
   "cell_type": "code",
   "execution_count": 3,
   "id": "d067a9e5-dffa-447d-a74f-d298b6d57ccf",
   "metadata": {},
   "outputs": [
    {
     "name": "stdout",
     "output_type": "stream",
     "text": [
      "[0, 1, 1, 2, 3, 5, 8, 13, 21, 34]\n"
     ]
    }
   ],
   "source": [
    "list = [0,1]\n",
    "for i in range(2,10):\n",
    "    a = list[i-1] + list[i-2]\n",
    "    list.append(a)\n",
    "print(list)"
   ]
  },
  {
   "cell_type": "code",
   "execution_count": 4,
   "id": "bdb3e2d3-d87f-4e6e-91f6-31780e3eaba8",
   "metadata": {},
   "outputs": [
    {
     "name": "stdout",
     "output_type": "stream",
     "text": [
      "[0, 1, 1, 2, 3, 5, 8, 13, 21, 34, 55]\n"
     ]
    }
   ],
   "source": [
    "list = [0,1]\n",
    "for i in range(2,11):\n",
    "    a = list[i-1] + list[i-2]\n",
    "    list.append(a)\n",
    "print(list)"
   ]
  },
  {
   "cell_type": "markdown",
   "id": "eeba38dd-ba8f-4171-b168-7c46b662610c",
   "metadata": {},
   "source": [
    "#### Question 2\n",
    "\n",
    "#### Display numbers at the odd indices of a list"
   ]
  },
  {
   "cell_type": "code",
   "execution_count": 6,
   "id": "3301cfaf-5311-4ae9-8529-52c5d22763c9",
   "metadata": {},
   "outputs": [
    {
     "name": "stdout",
     "output_type": "stream",
     "text": [
      "Original list is:  [1, 2, 3, 4, 5, 6, 7, 8, 9] \n",
      "\n",
      "Odd Indices List is:  [1, 3, 5, 7, 9]\n"
     ]
    }
   ],
   "source": [
    "original_list = []\n",
    "odd_indices_list = []\n",
    "for i in range(1,10):\n",
    "    original_list.append(i)\n",
    "    if i%2 != 0:\n",
    "        odd_indices_list.append(i)\n",
    "print(\"Original list is: \",original_list,\"\\n\")\n",
    "print(\"Odd Indices List is: \",odd_indices_list)"
   ]
  },
  {
   "cell_type": "markdown",
   "id": "c94df3e2-d095-4dff-94a7-8745720bec21",
   "metadata": {},
   "source": [
    "#### Question 3\n",
    "\n",
    "string = \"\"\"\n",
    "I have provided this text to provide tips on creating interesting paragraphs.\n",
    "First, start with a clear topic sentence that introduces the main idea.\n",
    "Then, support the topic sentence with specific details, examples, and evidence.\n",
    "Vary the sentence length and structure to keep the reader engaged.\n",
    "Finally, end with a strong concluding sentence that summarizes the main points.\n",
    "Remember, practice makes perfect!\n",
    "\"\"\"\n",
    "\n",
    "#Your task is to count the number of different words in this text"
   ]
  },
  {
   "cell_type": "code",
   "execution_count": 8,
   "id": "32554149-a594-4932-aabb-be876bf77574",
   "metadata": {},
   "outputs": [
    {
     "name": "stdout",
     "output_type": "stream",
     "text": [
      "62\n",
      "Counter({'the': 5, 'sentence': 4, 'with': 3, 'to': 2, 'a': 2, 'topic': 2, 'that': 2, 'main': 2, 'and': 2, 'I': 1, 'have': 1, 'provided': 1, 'this': 1, 'text': 1, 'provide': 1, 'tips': 1, 'on': 1, 'creating': 1, 'interesting': 1, 'paragraphs': 1, 'First': 1, 'start': 1, 'clear': 1, 'introduces': 1, 'idea': 1, 'Then': 1, 'support': 1, 'specific': 1, 'details': 1, 'examples': 1, 'evidence': 1, 'Vary': 1, 'length': 1, 'structure': 1, 'keep': 1, 'reader': 1, 'engaged': 1, 'Finally': 1, 'end': 1, 'strong': 1, 'concluding': 1, 'summarizes': 1, 'points': 1, 'Remember': 1, 'practice': 1, 'makes': 1, 'perfect': 1})\n"
     ]
    }
   ],
   "source": [
    "import string\n",
    "translator = str.maketrans('','',string.punctuation)\n",
    "sentence = \"I have provided this text to provide tips on creating interesting paragraphs. First, start with a clear topic sentence that introduces the main idea. Then, support the topic sentence with specific details, examples, and evidence. Vary the sentence length and structure to keep the reader engaged. Finally, end with a strong concluding sentence that summarizes the main points. Remember, practice makes perfect!\"\n",
    "s = sentence.translate(translator)\n",
    "from collections import Counter\n",
    "word_list = s.split()\n",
    "word_count = len(word_list)\n",
    "word_count_individual = Counter(word_list)\n",
    "print(word_count)\n",
    "print(word_count_individual)"
   ]
  },
  {
   "cell_type": "markdown",
   "id": "0842439c-f566-4d6a-aa64-de2d94ea3bf7",
   "metadata": {},
   "source": [
    "#### Question 4\n",
    "#### ⁠Write a function count_vowels(word) that takes a word as an argument and returns the number of vowels in the word\n"
   ]
  },
  {
   "cell_type": "code",
   "execution_count": 10,
   "id": "54b9ff5f-b3d4-4155-8522-0250e19406f3",
   "metadata": {},
   "outputs": [
    {
     "name": "stdout",
     "output_type": "stream",
     "text": [
      "The number of vowels in the word are:  1\n"
     ]
    }
   ],
   "source": [
    "sample = 'abcd'\n",
    "def count_vowels(word):\n",
    "    vowel_count = 0\n",
    "    vowels = ['a','e','i','o','u']\n",
    "    word = word.lower()\n",
    "    for i in word:\n",
    "        if i in vowels:\n",
    "            vowel_count += 1\n",
    "    return vowel_count\n",
    "count = count_vowels(sample)\n",
    "print(\"The number of vowels in the word are: \", count)\n"
   ]
  },
  {
   "cell_type": "markdown",
   "id": "bda83679-3ee4-41f4-9259-33df44bcaacd",
   "metadata": {},
   "source": [
    "#### Question 5\n",
    "\n",
    "#### Iterate through the following list of animals and print each one in all caps.\r\n",
    "\r\n",
    "animals=['tiger', 'elephant', 'monkey', 'zebra', 'panther']"
   ]
  },
  {
   "cell_type": "code",
   "execution_count": 12,
   "id": "f1cd4688-69d8-46f3-a76f-018dfd18b244",
   "metadata": {},
   "outputs": [
    {
     "name": "stdout",
     "output_type": "stream",
     "text": [
      "TIGER \n",
      "\n",
      "ELEPHANT \n",
      "\n",
      "MONKEY \n",
      "\n",
      "ZEBRA \n",
      "\n",
      "PANTHER \n",
      "\n"
     ]
    }
   ],
   "source": [
    "animals=['tiger', 'elephant', 'monkey', 'zebra', 'panther']\n",
    "for i in range(len(animals)):\n",
    "    animals[i] = animals[i].upper()\n",
    "    print(animals[i],\"\\n\")"
   ]
  },
  {
   "cell_type": "markdown",
   "id": "6b89806c-0376-42fb-986c-c66ad056a03f",
   "metadata": {},
   "source": [
    "#### Question 6\n",
    "#### Write a program that iterates from 1 to 20, printing each number and whether it's odd or even."
   ]
  },
  {
   "cell_type": "code",
   "execution_count": 14,
   "id": "527a8a8d-7d3b-4be5-999d-da5ef5fd35f9",
   "metadata": {},
   "outputs": [
    {
     "name": "stdout",
     "output_type": "stream",
     "text": [
      "1  : it is odd\n",
      "2  : it is even \n",
      "3  : it is odd\n",
      "4  : it is even \n",
      "5  : it is odd\n",
      "6  : it is even \n",
      "7  : it is odd\n",
      "8  : it is even \n",
      "9  : it is odd\n",
      "10  : it is even \n",
      "11  : it is odd\n",
      "12  : it is even \n",
      "13  : it is odd\n",
      "14  : it is even \n",
      "15  : it is odd\n",
      "16  : it is even \n",
      "17  : it is odd\n",
      "18  : it is even \n",
      "19  : it is odd\n",
      "20  : it is even \n"
     ]
    }
   ],
   "source": [
    "for i in range(1,21):\n",
    "    if i%2 == 0:\n",
    "        print(i,\" : it is even \")\n",
    "    else:\n",
    "        print(i,\" : it is odd\")"
   ]
  },
  {
   "cell_type": "markdown",
   "id": "480a7578-d139-4b5c-bceb-215ea53c549d",
   "metadata": {},
   "source": [
    "#### Question 7\n",
    "\n",
    "#### Write a function sum_of_integers(a, b) that takes two integers as input from the user and returns their sum."
   ]
  },
  {
   "cell_type": "code",
   "execution_count": 16,
   "id": "30d8a082-e2bc-4a76-b283-880e3c86bc67",
   "metadata": {},
   "outputs": [
    {
     "name": "stdout",
     "output_type": "stream",
     "text": [
      "30\n"
     ]
    }
   ],
   "source": [
    "def sum_of_integers(a,b):\n",
    "    result = a + b\n",
    "    return result\n",
    "two_sum = sum_of_integers(2,28)\n",
    "print(two_sum)"
   ]
  }
 ],
 "metadata": {
  "kernelspec": {
   "display_name": "Python 3 (ipykernel)",
   "language": "python",
   "name": "python3"
  },
  "language_info": {
   "codemirror_mode": {
    "name": "ipython",
    "version": 3
   },
   "file_extension": ".py",
   "mimetype": "text/x-python",
   "name": "python",
   "nbconvert_exporter": "python",
   "pygments_lexer": "ipython3",
   "version": "3.12.4"
  }
 },
 "nbformat": 4,
 "nbformat_minor": 5
}
