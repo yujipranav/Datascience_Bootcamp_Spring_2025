{
 "cells": [
  {
   "cell_type": "markdown",
   "metadata": {},
   "source": [
    "## Bootcamp Homework 7 [pn2330@nyu.edu]"
   ]
  },
  {
   "cell_type": "markdown",
   "metadata": {},
   "source": [
    "### Q1. How do you assess the statistical significance of an insight?\n",
    "\n",
    "Formally, you:\n",
    "\n",
    "State a null (no effect) and alternative hypothesis.\n",
    "\n",
    "Choose a test (t‑test, χ², etc.) and significance level (α, e.g. 0.05).\n",
    "\n",
    "Compute the test statistic and p‑value.\n",
    "\n",
    "If p ≤ α, reject the null—your insight is “statistically significant.”\n",
    "\n",
    "Optionally, check confidence intervals and effect size for practical relevance."
   ]
  },
  {
   "cell_type": "markdown",
   "metadata": {},
   "source": [
    "### Q2. What is the Central Limit Theorem? Explain it. Why is it important?\n",
    "\n",
    "Lets say Central Limit Theorem is nature’s way of smoothing out any weirdness in data: if you take lots of independent random samples (say, n ≥ 30) from any population—no matter how skewed or jagged—and compute each sample’s average, those averages will form a bell‑shaped (normal) curve centered on the true mean, with a spread of σ/√n.\n",
    "\n",
    "Why it matters: it lets us treat sample means as if they’re normally distributed even when the raw data aren’t, so we can build confidence intervals, run t‑tests or z‑tests, and generally make reliable inferences without knowing the population’s exact shape."
   ]
  },
  {
   "cell_type": "markdown",
   "metadata": {},
   "source": [
    "### Q3. What is the statistical power?\n",
    "\n",
    "Statistical power is the probability that a test will correctly reject a false null hypothesis. Power increases with larger sample sizes, bigger effect sizes, higher α levels, and lower variability—so you design studies to hit at least 80% power to feel confident you won’t overlook meaningful results."
   ]
  },
  {
   "cell_type": "markdown",
   "metadata": {},
   "source": [
    "### Q4. How do you control for biases?\n",
    "\n",
    "• Randomize assignments to balance unknown factors\n",
    "• Blind participants and researchers to conditions\n",
    "• Stratify or block on key confounders (e.g., age, gender)\n",
    "• Standardize protocols and measurements\n",
    "• Pre‑register your analysis plan to avoid data‑driven fishing"
   ]
  },
  {
   "cell_type": "markdown",
   "metadata": {},
   "source": [
    "### Q5. What are confounding variables?\n",
    "\n",
    "A confounding variable is an outside factor that’s related to both your treatment (or exposure) and your outcome, which can make it look like there’s a direct effect when there isn’t (or hide a real one). By influencing both sides, confounders can distort the true relationship you’re trying to measure."
   ]
  },
  {
   "cell_type": "markdown",
   "metadata": {},
   "source": [
    "### Q6. What is A/B testing?\n",
    "\n",
    "A/B testing is a controlled experiment where you split your dataset randomly into two groups—“A” (the control) and “B” (the variant)—and expose each to a different version of whatever you’re testing. You then compare a key metric between the groups. By randomizing assignment and running the test long enough to reach statistical significance, you can reliably determine which version performs better—and make data‑driven decisions rather than relying on intuition."
   ]
  },
  {
   "cell_type": "markdown",
   "metadata": {},
   "source": []
  },
  {
   "cell_type": "markdown",
   "metadata": {},
   "source": [
    "### Q7. What are confidence intervals?\n",
    "\n",
    "A confidence interval is a range around a sample estimate (like a mean or proportion) that’s calculated so that, say 95% of the time, that interval would contain the true population parameter. You build it as\n",
    "#### estimate ± (critical value × standard error)\n",
    "\n",
    "so it both quantifies uncertainty and gives a sense of how precise your estimate is."
   ]
  },
  {
   "cell_type": "markdown",
   "metadata": {},
   "source": []
  }
 ],
 "metadata": {
  "kernelspec": {
   "display_name": "Python 3 (ipykernel)",
   "language": "python",
   "name": "python3"
  },
  "language_info": {
   "codemirror_mode": {
    "name": "ipython",
    "version": 3
   },
   "file_extension": ".py",
   "mimetype": "text/x-python",
   "name": "python",
   "nbconvert_exporter": "python",
   "pygments_lexer": "ipython3",
   "version": "3.12.4"
  }
 },
 "nbformat": 4,
 "nbformat_minor": 4
}
